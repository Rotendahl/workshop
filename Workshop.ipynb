{
 "cells": [
  {
   "cell_type": "markdown",
   "metadata": {},
   "source": [
    "## Bolius machine learning example notebook"
   ]
  },
  {
   "cell_type": "code",
   "execution_count": null,
   "metadata": {},
   "outputs": [],
   "source": [
    "from keras.datasets import mnist\n",
    "import pandas as pd\n",
    "import numpy as np \n",
    "from PIL import Image\n",
    "from random import randint, shuffle\n",
    "from tqdm import tqdm\n",
    "pd.options.plotting.backend = \"plotly\""
   ]
  },
  {
   "cell_type": "markdown",
   "metadata": {},
   "source": [
    "## Loads the data into a 3D tensor"
   ]
  },
  {
   "cell_type": "code",
   "execution_count": null,
   "metadata": {},
   "outputs": [],
   "source": [
    "(train_X, train_y), (test_X, test_y) = mnist.load_data()"
   ]
  },
  {
   "cell_type": "code",
   "execution_count": null,
   "metadata": {},
   "outputs": [],
   "source": [
    "def show_image(arr):\n",
    "    return Image.fromarray(arr).resize((400, 400))\n",
    "show_image(train_X[6])"
   ]
  },
  {
   "cell_type": "code",
   "execution_count": null,
   "metadata": {},
   "outputs": [],
   "source": [
    "pd.DataFrame(train_X[4])"
   ]
  },
  {
   "cell_type": "code",
   "execution_count": null,
   "metadata": {},
   "outputs": [],
   "source": [
    "## Return only samples that match a digit\n",
    "def getDigit(d):\n",
    "    pass"
   ]
  },
  {
   "cell_type": "code",
   "execution_count": null,
   "metadata": {},
   "outputs": [],
   "source": [
    "fives = getDigit(5)\n",
    "show_image(fives[11])"
   ]
  },
  {
   "cell_type": "code",
   "execution_count": null,
   "metadata": {},
   "outputs": [],
   "source": [
    "twos = getDigit(2)\n",
    "show_image(twos[11])"
   ]
  },
  {
   "cell_type": "markdown",
   "metadata": {},
   "source": [
    "## Præpros trin 1\n",
    "Det første trin er at lave skrive en funktion der kan \n",
    "lave en $28\\times 28$ matrice, om til en vector i $785$\n",
    "dimensioner. \n",
    "Skriv en funktioner der sammensætter en vektor rækkevis fra \n",
    "fra en matrice, og indsætter et $1$ tal forrest. "
   ]
  },
  {
   "cell_type": "code",
   "execution_count": null,
   "metadata": {},
   "outputs": [],
   "source": [
    "def flatten(matrix):\n",
    "    pass"
   ]
  },
  {
   "cell_type": "code",
   "execution_count": null,
   "metadata": {},
   "outputs": [],
   "source": [
    "flat_five = [flatten(f) for f in fives]\n",
    "flat_two = [flatten(f) for f in twos]\n",
    "combined = [(f, 1) for f in flat_five] + [(f,-1) for f in flat_two]\n",
    "shuffle(combined)"
   ]
  },
  {
   "cell_type": "markdown",
   "metadata": {},
   "source": [
    "## Skriv en prikprodukts funktion\n",
    "Vi skal kunne tage prikproduktet af to vektorer. \n",
    "Det er defineret som: \n",
    "$$\n",
    "    \\bar{w} \\circ \\bar{v} = w_1v_1 + w_2v_2 + \\dots + w_nv_n\n",
    "$$"
   ]
  },
  {
   "cell_type": "code",
   "execution_count": null,
   "metadata": {},
   "outputs": [],
   "source": [
    "def dotProd(w, v): \n",
    "    pass"
   ]
  },
  {
   "cell_type": "code",
   "execution_count": null,
   "metadata": {},
   "outputs": [],
   "source": [
    "# Lad os teste om den virker\n",
    "a = [1,2,3]\n",
    "b = [-4,5,-6]\n",
    "print(\"Tallet skulle være -12 og det var \" + str(dotProd(a,b)))\n",
    "assert -12 == dotProd(a,b)"
   ]
  },
  {
   "cell_type": "markdown",
   "metadata": {},
   "source": [
    "## Skriv en funktion der kan lægge to vektorer sammen. \n",
    "Hvis $a$ og $b$ er vektorer, så udregnes \n",
    "$$\n",
    "a + b = \n",
    "\\begin{bmatrix}\n",
    "    a_1+b_1 \\\\\n",
    "    a_2+b_2 \\\\\n",
    "    \\vdots \\\\ \n",
    "    a_n + b_n\n",
    "\\end{bmatrix}\n",
    "$$"
   ]
  },
  {
   "cell_type": "code",
   "execution_count": null,
   "metadata": {},
   "outputs": [],
   "source": [
    "def sumVec(a,b):\n",
    "    pass"
   ]
  },
  {
   "cell_type": "code",
   "execution_count": null,
   "metadata": {},
   "outputs": [],
   "source": [
    "# Lad os teste om den virker\n",
    "a = [1,2,3]\n",
    "b = [4,5,6]\n",
    "print(\n",
    "    \"svaret skulle være [5, 7, 9] og det var \" + str(sumVec(a,b))\n",
    ")\n",
    "assert [5, 7, 9]== sumVec(a,b)"
   ]
  },
  {
   "cell_type": "markdown",
   "metadata": {},
   "source": [
    "### Vektor gange konstant\n",
    "Hvis $a$ er en vektor og $c$ er en konstant, så udregnes \n",
    "$$\n",
    "a \\cdot c = \n",
    "\\begin{bmatrix}\n",
    "    a_1c \\\\\n",
    "    a_2c \\\\\n",
    "    \\vdots \\\\ \n",
    "    a_n c\n",
    "\\end{bmatrix}\n",
    "$$"
   ]
  },
  {
   "cell_type": "code",
   "execution_count": null,
   "metadata": {},
   "outputs": [],
   "source": [
    "def constVec(c,vec):\n",
    "    pass"
   ]
  },
  {
   "cell_type": "code",
   "execution_count": null,
   "metadata": {},
   "outputs": [],
   "source": [
    "# Lad os teste om den virker\n",
    "x = [1,2,3]\n",
    "k = 2\n",
    "print(\"Listen skulle være [2,4,6] og det var \" + str(constVec(k,x)))"
   ]
  },
  {
   "cell_type": "markdown",
   "metadata": {},
   "source": [
    "## Lav hyperplan\n",
    "Vi skal lave vores tilfældige start-hyperplan, som senere bliver rettet ind til at blive vores vægt-vektor.\n",
    "Vores tilfældige hyperplan skal have 785 elementer, hvor det første element er $1$, og de $784$ andre elementer er tilfældige tal mellem $1$ og $10$."
   ]
  },
  {
   "cell_type": "code",
   "execution_count": null,
   "metadata": {},
   "outputs": [],
   "source": [
    "def makeHyper():\n",
    "    w = [1]\n",
    "    for i in range(1,785):\n",
    "        w.append(randint(0,255) )\n",
    "    return w\n"
   ]
  },
  {
   "cell_type": "markdown",
   "metadata": {},
   "source": [
    "### Opdaterings-funktion.\n",
    "Formålet med denne funktion er at kunne opdatere vores vægt-vektor, således at den kan lære fra sine fejl, hvis den markerer noget forkert.\n",
    "Funktionen skal givet en vægt-vektor $w$ og en ciffer-vektor $x$, som skal være markeret forkert, kunne opdatere hjerne-vektoren vha. følgende formel, hvor $y$ er den markering som ciffer-vektoren burde få (altså den rigtige markering):\n",
    "$$w = w + y \\cdot x$$"
   ]
  },
  {
   "cell_type": "code",
   "execution_count": null,
   "metadata": {},
   "outputs": [],
   "source": [
    "def update(w,x,y):\n",
    "    pass"
   ]
  },
  {
   "cell_type": "markdown",
   "metadata": {},
   "source": [
    "### Hypotese-funktion.\n",
    "Vi skal nu lave vores hypotese funktion, dvs. funktionen som givet en vægt-vektor $w$ og en ciffer-vektor $x$, skal returnere en markering (enten $1$ eller $-1$).\n",
    "Markeringen bestemmes ved at tage prikproduktet af de to vektorer.\n",
    "Hvis prikproduktet er mindre end nul, så skal markeringen $-1$ returneres, og ellers skal $1$ returneres."
   ]
  },
  {
   "cell_type": "code",
   "execution_count": null,
   "metadata": {},
   "outputs": [],
   "source": [
    "def hypo(w, x):\n",
    "    pass"
   ]
  },
  {
   "cell_type": "markdown",
   "metadata": {},
   "source": [
    "## Træne function \n",
    "Nu skal vi lave selve kernen i vores algoritme, funktionen der finder vægt-vektoren. Målet er, at givet en liste af data-vektorer $xs$, og en liste af korrekte markeringer $ys$, så skal vi til sidst returnere den bedst mulige vægt-vektor.\n",
    "\n",
    "\n",
    "For at finde vægt-vektoren skal vi udføre følgende trin:\n",
    "1. Sæt $w$ til et tilfældigt hyperplan.\n",
    "2. Tjek om vores nuværende hypotese, altså vores $w$, giver nogen forkerte markeringer. \n",
    "    * Hvis det er tilfældet, så opdater $w$ således, at den markerer punktet rigtigt.\n",
    "3. Forsæt med trin $2$ indtil der ikke er forkert markerede punkter.\n",
    "4. Returner $w$.\n"
   ]
  },
  {
   "cell_type": "code",
   "execution_count": null,
   "metadata": {},
   "outputs": [],
   "source": [
    "def train(xs, ys):\n",
    "    pass"
   ]
  },
  {
   "cell_type": "code",
   "execution_count": null,
   "metadata": {},
   "outputs": [],
   "source": [
    "## SPlit train test data\n",
    "\n",
    "train_x = []\n",
    "train_y = []\n",
    "test_x = []\n",
    "test_y = []\n",
    "for x,y in combined: \n",
    "    if randint(0, 5) == 1: \n",
    "        test_x.append(x)\n",
    "        test_y.append(y)\n",
    "    else: \n",
    "        train_x.append(x)\n",
    "        train_y.append(y)\n",
    "    "
   ]
  },
  {
   "cell_type": "code",
   "execution_count": null,
   "metadata": {},
   "outputs": [],
   "source": [
    "w = train(train_x, train_y)"
   ]
  },
  {
   "cell_type": "code",
   "execution_count": null,
   "metadata": {},
   "outputs": [],
   "source": []
  },
  {
   "cell_type": "code",
   "execution_count": null,
   "metadata": {},
   "outputs": [],
   "source": []
  }
 ],
 "metadata": {
  "kernelspec": {
   "display_name": "Python 3",
   "language": "python",
   "name": "python3"
  },
  "language_info": {
   "codemirror_mode": {
    "name": "ipython",
    "version": 3
   },
   "file_extension": ".py",
   "mimetype": "text/x-python",
   "name": "python",
   "nbconvert_exporter": "python",
   "pygments_lexer": "ipython3",
   "version": "3.8.1"
  }
 },
 "nbformat": 4,
 "nbformat_minor": 4
}
